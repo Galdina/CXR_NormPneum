{
 "cells": [
  {
   "cell_type": "markdown",
   "metadata": {},
   "source": [
    "# Imports"
   ]
  },
  {
   "cell_type": "code",
<<<<<<< HEAD
   "execution_count": 140,
   "metadata": {},
   "outputs": [
    {
     "name": "stdout",
     "output_type": "stream",
     "text": [
      "Requirement already satisfied: opencv-python in /Users/alphonsowoodbury/opt/miniconda3/envs/learn-env/lib/python3.6/site-packages (4.2.0.34)\n",
      "Requirement already satisfied: numpy>=1.11.3 in /Users/alphonsowoodbury/opt/miniconda3/envs/learn-env/lib/python3.6/site-packages (from opencv-python) (1.16.4)\n"
     ]
    },
    {
     "ename": "ImportError",
     "evalue": "cannot import name 'plot_roc_curve'",
     "output_type": "error",
     "traceback": [
      "\u001b[0;31m---------------------------------------------------------------------------\u001b[0m",
      "\u001b[0;31mImportError\u001b[0m                               Traceback (most recent call last)",
      "\u001b[0;32m<ipython-input-140-e8961cfbf733>\u001b[0m in \u001b[0;36m<module>\u001b[0;34m\u001b[0m\n\u001b[1;32m     68\u001b[0m \u001b[0;32mfrom\u001b[0m \u001b[0msklearn\u001b[0m\u001b[0;34m.\u001b[0m\u001b[0mmetrics\u001b[0m \u001b[0;32mimport\u001b[0m \u001b[0mconfusion_matrix\u001b[0m\u001b[0;34m,\u001b[0m \u001b[0mr2_score\u001b[0m\u001b[0;34m,\u001b[0m \u001b[0mrecall_score\u001b[0m\u001b[0;34m,\u001b[0m \u001b[0mprecision_score\u001b[0m\u001b[0;34m,\u001b[0m \u001b[0mf1_score\u001b[0m\u001b[0;34m,\u001b[0m \u001b[0maccuracy_score\u001b[0m\u001b[0;34m\u001b[0m\u001b[0;34m\u001b[0m\u001b[0m\n\u001b[1;32m     69\u001b[0m \u001b[0;32mfrom\u001b[0m \u001b[0msklearn\u001b[0m\u001b[0;34m.\u001b[0m\u001b[0mmodel_selection\u001b[0m \u001b[0;32mimport\u001b[0m \u001b[0mcross_val_score\u001b[0m\u001b[0;34m,\u001b[0m \u001b[0mGridSearchCV\u001b[0m\u001b[0;34m,\u001b[0m \u001b[0mvalidation_curve\u001b[0m\u001b[0;34m\u001b[0m\u001b[0;34m\u001b[0m\u001b[0m\n\u001b[0;32m---> 70\u001b[0;31m \u001b[0;32mfrom\u001b[0m \u001b[0msklearn\u001b[0m\u001b[0;34m.\u001b[0m\u001b[0mmetrics\u001b[0m \u001b[0;32mimport\u001b[0m \u001b[0mroc_curve\u001b[0m\u001b[0;34m,\u001b[0m \u001b[0mplot_roc_curve\u001b[0m\u001b[0;34m\u001b[0m\u001b[0;34m\u001b[0m\u001b[0m\n\u001b[0m",
      "\u001b[0;31mImportError\u001b[0m: cannot import name 'plot_roc_curve'"
=======
   "execution_count": 1,
   "metadata": {
    "jupyter": {
     "source_hidden": true
    }
   },
   "outputs": [
    {
     "name": "stderr",
     "output_type": "stream",
     "text": [
      "Using TensorFlow backend.\n"
>>>>>>> 6375323aae829e6ff68c691288ed7ada2ffd12cf
     ]
    }
   ],
   "source": [
    "import tensorflow as tf\n",
    "from tensorflow import keras\n",
    "import numpy as np\n",
    "import pandas as pd\n",
    "import os\n",
    "import sys\n",
    "import matplotlib.pyplot as plt\n",
    "%matplotlib inline\n",
    "import time\n",
    "import matplotlib.pyplot as plt\n",
    "import scipy\n",
    "import numpy as np\n",
    "from PIL import Image\n",
    "from scipy import ndimage\n",
    "from keras.preprocessing.image import ImageDataGenerator, array_to_img, img_to_array, load_img\n",
    "import keras_metrics\n",
    "from keras import layers\n",
    "from keras import models\n",
    "from keras import optimizers\n",
    "from keras import models\n",
    "from keras import layers\n",
    "import keras_metrics\n",
    "from sklearn.model_selection import RandomizedSearchCV \n",
    "\n",
    "np.random.seed(123)\n",
    "\n",
    "import tensorflow as tf\n",
    "from tensorflow import keras\n",
    "\n",
    "import numpy as np\n",
    "import pandas as pd\n",
    "import os\n",
    "import sys\n",
    "import matplotlib.pyplot as plt\n",
    "%matplotlib inline\n",
    "\n",
    "!{sys.executable} -m pip install opencv-python\n",
    "\n",
    "import time\n",
    "import scipy\n",
    "import numpy as np\n",
    "from PIL import Image\n",
    "from scipy import ndimage\n",
    "from keras.preprocessing.image import ImageDataGenerator, array_to_img, img_to_array, load_img\n",
    "\n",
<<<<<<< HEAD
    "from sklearn.metrics import roc_curve#, plot_roc_curve\n",
    "\n",
    "np.random.seed(123)\n",
    "\n",
    "import pandas as pd\n",
    "import numpy as np\n",
    "import pickle\n",
    "import seaborn as sns\n",
    "from sklearn.ensemble import RandomForestClassifier\n",
    "from sklearn.datasets import make_classification\n",
    "from sklearn.metrics import classification_report, roc_auc_score\n",
    "from sklearn.metrics import confusion_matrix, r2_score, recall_score, precision_score, f1_score, accuracy_score\n",
    "from sklearn.model_selection import cross_val_score, GridSearchCV, validation_curve\n",
    "from sklearn.pipeline import make_pipeline\n",
    "\n",
    "import warnings\n",
    "import seaborn as sns\n",
    "import itertools\n",
    "import matplotlib.pyplot as plt\n",
    "%matplotlib inline\n",
    "warnings.filterwarnings('ignore')\n",
    "from sklearn.metrics import classification_report, roc_auc_score\n",
    "from sklearn.metrics import confusion_matrix, r2_score, recall_score, precision_score, f1_score, accuracy_score\n",
    "from sklearn.model_selection import cross_val_score, GridSearchCV, validation_curve\n",
    "from sklearn.metrics import roc_curve, plot_roc_curve\n",
    "import densenet"
   ]
  },
  {
   "cell_type": "code",
   "execution_count": 134,
   "metadata": {},
   "outputs": [],
   "source": [
    "def plot_confusion_matrix(cm, classes,\n",
    "                          normalize=False,\n",
    "                          title='Confusion matrix',\n",
    "                          cmap=plt.cm.Blues):\n",
    "    \"\"\"\n",
    "    This function prints and plots the confusion matrix.\n",
    "    Normalization can be applied by setting `normalize=True`.\n",
    "    \"\"\"\n",
    "    if normalize:\n",
    "        cm = cm.astype('float') / cm.sum(axis=1)[:, np.newaxis]\n",
    "        print(\"Normalized confusion matrix\")\n",
    "    else:\n",
    "        print('Confusion Matrix, without normalization')\n",
    "\n",
    "    print(cm)\n",
    "\n",
    "    plt.imshow(cm, interpolation='nearest', cmap=cmap)\n",
    "    plt.title(title)\n",
    "    plt.colorbar()\n",
    "    tick_marks = np.arange(len(classes))\n",
    "    plt.xticks(tick_marks, classes, rotation=45)\n",
    "    plt.yticks(tick_marks, classes)\n",
    "\n",
    "    fmt = '.2f' if normalize else 'd'\n",
    "    thresh = cm.max() / 1\n",
    "    for i, j in itertools.product(range(cm.shape[0]), range(cm.shape[1])):\n",
    "        plt.text(j, i, format(cm[i, j], fmt),\n",
    "                 horizontalalignment=\"center\",\n",
    "                 color=\"white\" if cm[i, j] > thresh else \"black\")\n",
    "    plt.tight_layout()\n",
    "    plt.ylabel('True label')\n",
    "    plt.xlabel('Predicted label')"
=======
    "np.random.seed(123)"
>>>>>>> 6375323aae829e6ff68c691288ed7ada2ffd12cf
   ]
  },
  {
   "cell_type": "code",
   "execution_count": 2,
   "metadata": {},
   "outputs": [],
   "source": [
    "test_folder = '../data/test'\n",
    "train_folder = '../data/train'\n",
    "val_folder = '../data/val'"
   ]
  },
  {
   "cell_type": "code",
   "execution_count": 3,
   "metadata": {},
   "outputs": [
    {
     "name": "stdout",
     "output_type": "stream",
     "text": [
      "Found 624 images belonging to 2 classes.\n",
      "Found 16 images belonging to 2 classes.\n",
      "Found 5216 images belonging to 2 classes.\n"
     ]
    }
   ],
   "source": [
    "test_generator = ImageDataGenerator(rescale=1./255).flow_from_directory(\n",
    "        test_folder, \n",
    "        target_size=(64,64), batch_size = 627) \n",
    "\n",
    "val_generator = ImageDataGenerator(rescale=1./255).flow_from_directory(\n",
    "        val_folder, \n",
    "        target_size=(64,64), batch_size = 19)\n",
    "\n",
    "train_generator = ImageDataGenerator(rescale=1./255).flow_from_directory(\n",
    "        train_folder, \n",
    "        target_size=(64,64), batch_size=5219)"
   ]
  },
  {
   "cell_type": "code",
   "execution_count": 4,
   "metadata": {},
   "outputs": [],
   "source": [
    "train_images, train_labels = next(train_generator)\n",
    "test_images, test_labels = next(test_generator)\n",
    "val_images, val_labels = next(val_generator)"
   ]
  },
  {
   "cell_type": "code",
   "execution_count": 5,
   "metadata": {},
   "outputs": [],
   "source": [
    "train_img = train_images.reshape(train_images.shape[0], -1)\n",
    "test_img = test_images.reshape(test_images.shape[0], -1)\n",
    "val_img = val_images.reshape(val_images.shape[0], -1)\n",
    "\n",
    "train_y = np.reshape(train_labels[:,0], (5216,1))\n",
    "test_y = np.reshape(test_labels[:,0], (624,1))\n",
    "val_y = np.reshape(val_labels[:,0], (16,1))"
   ]
  },
  {
   "cell_type": "code",
   "execution_count": 6,
   "metadata": {},
   "outputs": [
    {
     "data": {
      "text/plain": [
       "(5216, 12288)"
      ]
     },
     "execution_count": 6,
     "metadata": {},
     "output_type": "execute_result"
    }
   ],
   "source": [
    "train_img.shape"
   ]
  },
  {
   "cell_type": "markdown",
   "metadata": {},
   "source": [
    "model | accuracy | recall\n",
    "--- | --- | --- |\n",
    "baseline | .75 | \n",
    "CNN | 0.55 | 0.74 - 0.88"
   ]
  },
  {
   "cell_type": "markdown",
   "metadata": {},
   "source": [
    "## Build a baseline model (fully connected)\n",
    "- Accuracy for train: .99 </br>\n",
    "- Accuracy for val: .81 </br>\n",
    "- Our model is overfitting\n",
    "- Create a new model with dropout"
   ]
  },
  {
   "cell_type": "code",
   "execution_count": 10,
   "metadata": {},
   "outputs": [],
   "source": [
    "np.random.seed(123)\n",
    "model = models.Sequential()\n",
    "model.add(layers.Dense(20, activation='relu', input_shape=(12288,))) # 2 hidden layers\n",
    "model.add(layers.Dense(7, activation='relu'))\n",
    "model.add(layers.Dense(5, activation='relu'))\n",
    "model.add(layers.Dense(1, activation='sigmoid'))"
   ]
  },
  {
   "cell_type": "code",
   "execution_count": 11,
   "metadata": {
    "scrolled": true
   },
   "outputs": [
    {
     "name": "stdout",
     "output_type": "stream",
     "text": [
      "Train on 5216 samples, validate on 16 samples\n",
      "Epoch 1/50\n",
      "5216/5216 [==============================] - 1s 128us/step - loss: 0.4246 - accuracy: 0.8085 - val_loss: 0.6164 - val_accuracy: 0.7500\n",
      "Epoch 2/50\n",
      "5216/5216 [==============================] - 0s 95us/step - loss: 0.2656 - accuracy: 0.8923 - val_loss: 0.4456 - val_accuracy: 0.8125\n",
      "Epoch 3/50\n",
      "5216/5216 [==============================] - 0s 81us/step - loss: 0.2024 - accuracy: 0.9225 - val_loss: 0.5388 - val_accuracy: 0.8125\n",
      "Epoch 4/50\n",
      "5216/5216 [==============================] - 0s 83us/step - loss: 0.1831 - accuracy: 0.9262 - val_loss: 0.8253 - val_accuracy: 0.6250\n",
      "Epoch 5/50\n",
      "5216/5216 [==============================] - 0s 86us/step - loss: 0.1654 - accuracy: 0.9329 - val_loss: 1.0173 - val_accuracy: 0.6250\n",
      "Epoch 6/50\n",
      "5216/5216 [==============================] - 0s 83us/step - loss: 0.1469 - accuracy: 0.9431 - val_loss: 0.3601 - val_accuracy: 0.8750\n",
      "Epoch 7/50\n",
      "5216/5216 [==============================] - 0s 87us/step - loss: 0.1365 - accuracy: 0.9467 - val_loss: 0.2392 - val_accuracy: 0.9375\n",
      "Epoch 8/50\n",
      "5216/5216 [==============================] - 0s 83us/step - loss: 0.1407 - accuracy: 0.9454 - val_loss: 0.2333 - val_accuracy: 0.9375\n",
      "Epoch 9/50\n",
      "5216/5216 [==============================] - 0s 83us/step - loss: 0.1360 - accuracy: 0.9471 - val_loss: 0.2223 - val_accuracy: 0.9375\n",
      "Epoch 10/50\n",
      "5216/5216 [==============================] - 0s 78us/step - loss: 0.1380 - accuracy: 0.9459 - val_loss: 1.0522 - val_accuracy: 0.6250\n",
      "Epoch 11/50\n",
      "5216/5216 [==============================] - 0s 87us/step - loss: 0.1300 - accuracy: 0.9507 - val_loss: 0.4801 - val_accuracy: 0.8125\n",
      "Epoch 12/50\n",
      "5216/5216 [==============================] - 0s 87us/step - loss: 0.1183 - accuracy: 0.9551 - val_loss: 0.8682 - val_accuracy: 0.6875\n",
      "Epoch 13/50\n",
      "5216/5216 [==============================] - 0s 85us/step - loss: 0.1251 - accuracy: 0.9525 - val_loss: 0.9466 - val_accuracy: 0.6250\n",
      "Epoch 14/50\n",
      "5216/5216 [==============================] - 0s 80us/step - loss: 0.1236 - accuracy: 0.9536 - val_loss: 0.2822 - val_accuracy: 0.9375\n",
      "Epoch 15/50\n",
      "5216/5216 [==============================] - 0s 83us/step - loss: 0.1170 - accuracy: 0.9555 - val_loss: 0.2229 - val_accuracy: 0.9375\n",
      "Epoch 16/50\n",
      "5216/5216 [==============================] - 0s 85us/step - loss: 0.1189 - accuracy: 0.9561 - val_loss: 0.5533 - val_accuracy: 0.7500\n",
      "Epoch 17/50\n",
      "5216/5216 [==============================] - 0s 83us/step - loss: 0.1116 - accuracy: 0.9599 - val_loss: 0.4251 - val_accuracy: 0.8125\n",
      "Epoch 18/50\n",
      "5216/5216 [==============================] - 0s 85us/step - loss: 0.1091 - accuracy: 0.9582 - val_loss: 0.6398 - val_accuracy: 0.6875\n",
      "Epoch 19/50\n",
      "5216/5216 [==============================] - 0s 82us/step - loss: 0.1124 - accuracy: 0.9574 - val_loss: 0.6618 - val_accuracy: 0.6875\n",
      "Epoch 20/50\n",
      "5216/5216 [==============================] - 0s 82us/step - loss: 0.1100 - accuracy: 0.9586 - val_loss: 0.1843 - val_accuracy: 0.9375\n",
      "Epoch 21/50\n",
      "5216/5216 [==============================] - 0s 86us/step - loss: 0.1161 - accuracy: 0.9551 - val_loss: 0.3059 - val_accuracy: 0.9375\n",
      "Epoch 22/50\n",
      "5216/5216 [==============================] - 0s 88us/step - loss: 0.1053 - accuracy: 0.9613 - val_loss: 0.3779 - val_accuracy: 0.8125\n",
      "Epoch 23/50\n",
      "5216/5216 [==============================] - 0s 87us/step - loss: 0.1074 - accuracy: 0.9595 - val_loss: 0.3339 - val_accuracy: 0.9375\n",
      "Epoch 24/50\n",
      "5216/5216 [==============================] - 0s 88us/step - loss: 0.1033 - accuracy: 0.9615 - val_loss: 0.5211 - val_accuracy: 0.7500\n",
      "Epoch 25/50\n",
      "5216/5216 [==============================] - 0s 87us/step - loss: 0.1010 - accuracy: 0.9624 - val_loss: 0.7192 - val_accuracy: 0.6875\n",
      "Epoch 26/50\n",
      "5216/5216 [==============================] - 0s 80us/step - loss: 0.1047 - accuracy: 0.9599 - val_loss: 0.2880 - val_accuracy: 0.9375\n",
      "Epoch 27/50\n",
      "5216/5216 [==============================] - 0s 81us/step - loss: 0.1033 - accuracy: 0.9622 - val_loss: 0.4202 - val_accuracy: 0.8125\n",
      "Epoch 28/50\n",
      "5216/5216 [==============================] - 0s 87us/step - loss: 0.1039 - accuracy: 0.9599 - val_loss: 0.4845 - val_accuracy: 0.8125\n",
      "Epoch 29/50\n",
      "5216/5216 [==============================] - 0s 85us/step - loss: 0.1023 - accuracy: 0.9620 - val_loss: 0.2676 - val_accuracy: 0.9375\n",
      "Epoch 30/50\n",
      "5216/5216 [==============================] - 0s 83us/step - loss: 0.0973 - accuracy: 0.9624 - val_loss: 0.3976 - val_accuracy: 0.8125\n",
      "Epoch 31/50\n",
      "5216/5216 [==============================] - 0s 83us/step - loss: 0.0972 - accuracy: 0.9618 - val_loss: 0.3528 - val_accuracy: 0.8750\n",
      "Epoch 32/50\n",
      "5216/5216 [==============================] - 0s 84us/step - loss: 0.0898 - accuracy: 0.9657 - val_loss: 0.6941 - val_accuracy: 0.6875\n",
      "Epoch 33/50\n",
      "5216/5216 [==============================] - 0s 79us/step - loss: 0.0942 - accuracy: 0.9647 - val_loss: 0.4361 - val_accuracy: 0.8125\n",
      "Epoch 34/50\n",
      "5216/5216 [==============================] - 0s 81us/step - loss: 0.0930 - accuracy: 0.9630 - val_loss: 0.4073 - val_accuracy: 0.8125\n",
      "Epoch 35/50\n",
      "5216/5216 [==============================] - 0s 81us/step - loss: 0.0918 - accuracy: 0.9647 - val_loss: 0.3345 - val_accuracy: 0.8750\n",
      "Epoch 36/50\n",
      "5216/5216 [==============================] - 0s 88us/step - loss: 0.0911 - accuracy: 0.9664 - val_loss: 0.6345 - val_accuracy: 0.6875\n",
      "Epoch 37/50\n",
      "5216/5216 [==============================] - 0s 82us/step - loss: 0.1006 - accuracy: 0.9634 - val_loss: 1.0380 - val_accuracy: 0.6250\n",
      "Epoch 38/50\n",
      "5216/5216 [==============================] - 0s 80us/step - loss: 0.0897 - accuracy: 0.9661 - val_loss: 0.2639 - val_accuracy: 0.9375\n",
      "Epoch 39/50\n",
      "5216/5216 [==============================] - 0s 80us/step - loss: 0.0884 - accuracy: 0.9666 - val_loss: 0.4611 - val_accuracy: 0.8125\n",
      "Epoch 40/50\n",
      "5216/5216 [==============================] - 0s 82us/step - loss: 0.0843 - accuracy: 0.9688 - val_loss: 0.4168 - val_accuracy: 0.8125\n",
      "Epoch 41/50\n",
      "5216/5216 [==============================] - 0s 79us/step - loss: 0.0828 - accuracy: 0.9699 - val_loss: 0.4187 - val_accuracy: 0.8125\n",
      "Epoch 42/50\n",
      "5216/5216 [==============================] - 0s 82us/step - loss: 0.0858 - accuracy: 0.9686 - val_loss: 0.4420 - val_accuracy: 0.8125\n",
      "Epoch 43/50\n",
      "5216/5216 [==============================] - 0s 80us/step - loss: 0.0832 - accuracy: 0.9649 - val_loss: 0.2388 - val_accuracy: 0.8750\n",
      "Epoch 44/50\n",
      "5216/5216 [==============================] - 0s 80us/step - loss: 0.0856 - accuracy: 0.9689 - val_loss: 0.3298 - val_accuracy: 0.8750\n",
      "Epoch 45/50\n",
      "5216/5216 [==============================] - 0s 83us/step - loss: 0.0816 - accuracy: 0.9695 - val_loss: 0.3953 - val_accuracy: 0.8125\n",
      "Epoch 46/50\n",
      "5216/5216 [==============================] - 0s 83us/step - loss: 0.0746 - accuracy: 0.9730 - val_loss: 1.0899 - val_accuracy: 0.6250\n",
      "Epoch 47/50\n",
      "5216/5216 [==============================] - 0s 83us/step - loss: 0.0800 - accuracy: 0.9688 - val_loss: 0.6565 - val_accuracy: 0.6875\n",
      "Epoch 48/50\n",
      "5216/5216 [==============================] - 0s 83us/step - loss: 0.0815 - accuracy: 0.9688 - val_loss: 0.1980 - val_accuracy: 0.8750\n",
      "Epoch 49/50\n",
      "5216/5216 [==============================] - 0s 83us/step - loss: 0.0769 - accuracy: 0.9720 - val_loss: 0.5727 - val_accuracy: 0.7500\n",
      "Epoch 50/50\n",
      "5216/5216 [==============================] - 0s 83us/step - loss: 0.0771 - accuracy: 0.9724 - val_loss: 0.6637 - val_accuracy: 0.7500\n"
     ]
    }
   ],
   "source": [
    "model.compile(optimizer='sgd',\n",
    "              loss='binary_crossentropy',\n",
    "              metrics=['accuracy'])\n",
    "\n",
    "histoire = model.fit(train_img,\n",
    "                    train_y,\n",
    "                    epochs=50,\n",
    "                    batch_size=16,\n",
    "                    validation_data=(val_img, val_y), verbose = 1)"
   ]
  },
  {
   "cell_type": "code",
   "execution_count": 12,
   "metadata": {},
   "outputs": [
    {
     "name": "stdout",
     "output_type": "stream",
     "text": [
      "5216/5216 [==============================] - 0s 27us/step\n"
     ]
    }
   ],
   "source": [
    "results_train = model.evaluate(train_img, train_y)"
   ]
  },
  {
   "cell_type": "code",
   "execution_count": 13,
   "metadata": {
    "scrolled": true
   },
   "outputs": [
    {
     "data": {
      "text/plain": [
       "[0.07644408498747857, 0.970475435256958]"
      ]
     },
     "execution_count": 13,
     "metadata": {},
     "output_type": "execute_result"
    }
   ],
   "source": [
    "results_train"
   ]
  },
  {
   "cell_type": "code",
   "execution_count": 14,
   "metadata": {},
   "outputs": [
    {
     "name": "stdout",
     "output_type": "stream",
     "text": [
      "16/16 [==============================] - 0s 84us/step\n"
     ]
    }
   ],
   "source": [
    "results_val = model.evaluate(val_img, val_y)"
   ]
  },
  {
   "cell_type": "code",
   "execution_count": 15,
   "metadata": {},
   "outputs": [
    {
     "data": {
      "text/plain": [
       "[0.6636800765991211, 0.75]"
      ]
     },
     "execution_count": 15,
     "metadata": {},
     "output_type": "execute_result"
    }
   ],
   "source": [
    "results_val"
   ]
  },
  {
   "cell_type": "code",
   "execution_count": 16,
   "metadata": {},
   "outputs": [
    {
     "name": "stdout",
     "output_type": "stream",
     "text": [
      "Model: \"sequential_1\"\n",
      "_________________________________________________________________\n",
      "Layer (type)                 Output Shape              Param #   \n",
      "=================================================================\n",
      "dense_1 (Dense)              (None, 20)                245780    \n",
      "_________________________________________________________________\n",
      "dense_2 (Dense)              (None, 7)                 147       \n",
      "_________________________________________________________________\n",
      "dense_3 (Dense)              (None, 5)                 40        \n",
      "_________________________________________________________________\n",
      "dense_4 (Dense)              (None, 1)                 6         \n",
      "=================================================================\n",
      "Total params: 245,973\n",
      "Trainable params: 245,973\n",
      "Non-trainable params: 0\n",
      "_________________________________________________________________\n"
     ]
    }
   ],
   "source": [
    "model.summary()"
   ]
  },
  {
   "cell_type": "markdown",
   "metadata": {},
   "source": [
    "# CNN"
   ]
  },
  {
   "cell_type": "code",
<<<<<<< HEAD
   "execution_count": 268,
=======
   "execution_count": 120,
>>>>>>> 6375323aae829e6ff68c691288ed7ada2ffd12cf
   "metadata": {},
   "outputs": [],
   "source": [
    "model = models.Sequential()\n",
    "\n",
<<<<<<< HEAD
    "model.add(layers.Conv2D(32, (3, 3), activation='relu',input_shape=(64 ,64,  3)))\n",
    "\n",
    "model.add(layers.MaxPooling2D((3, 3)))\n",
    "#model.add(layers.Dropout(0.1))  \n",
    "\n",
    "model.add(layers.Conv2D(12, (3, 3), activation='relu'))\n",
    "model.add(layers.MaxPooling2D((3, 3)))\n",
    "#model.add(layers.Dropout(0.05))  \n",
    "\n",
    "model.add(layers.Conv2D(18, (3, 3), activation='relu'))\n",
    "model.add(layers.MaxPooling2D((3, 3)))\n",
=======
    "model.add(layers.Conv2D(6, (3, 3), activation='relu',input_shape=(64 ,64,  3)))\n",
    "\n",
    "model.add(layers.MaxPooling2D((3, 3), strides=3))\n",
    "model.add(layers.Dropout(0.45))  \n",
    "\n",
    "model.add(layers.Conv2D(12, (3, 3), activation='relu'))\n",
    "model.add(layers.MaxPooling2D((3, 3), strides=3))\n",
    "model.add(layers.Dropout(0.05))  \n",
    "\n",
    "model.add(layers.Conv2D(18, (3, 3), activation='relu'))\n",
    "model.add(layers.MaxPooling2D((3, 3), strides=3))\n",
>>>>>>> 6375323aae829e6ff68c691288ed7ada2ffd12cf
    "model.add(layers.Dropout(0.0025)) \n",
    "\n",
    "\n",
    "model.add(layers.Flatten())\n",
    "model.add(layers.Dense(1, activation='sigmoid'))"
   ]
  },
  {
   "cell_type": "code",
<<<<<<< HEAD
   "execution_count": 269,
=======
   "execution_count": 121,
>>>>>>> 6375323aae829e6ff68c691288ed7ada2ffd12cf
   "metadata": {},
   "outputs": [],
   "source": [
    "model.compile(loss='binary_crossentropy',\n",
    "              optimizer='adam',\n",
    "              metrics=['acc',keras_metrics.recall()])\n",
    "\n",
    "history = model.fit(train_images,\n",
    "                    train_y,\n",
<<<<<<< HEAD
    "                    epochs=5,\n",
=======
    "                    epochs=7,\n",
>>>>>>> 6375323aae829e6ff68c691288ed7ada2ffd12cf
    "                    batch_size=32,\n",
    "                    validation_data=(val_images, val_y),\n",
    "                    verbose=0)"
   ]
  },
  {
   "cell_type": "code",
<<<<<<< HEAD
   "execution_count": 270,
=======
   "execution_count": 122,
>>>>>>> 6375323aae829e6ff68c691288ed7ada2ffd12cf
   "metadata": {},
   "outputs": [
    {
     "name": "stdout",
     "output_type": "stream",
     "text": [
<<<<<<< HEAD
      "5216/5216 [==============================] - 7s 1ms/step\n"
=======
      "5216/5216 [==============================] - 3s 499us/step\n"
>>>>>>> 6375323aae829e6ff68c691288ed7ada2ffd12cf
     ]
    }
   ],
   "source": [
    "results_train = model.evaluate(train_images, train_y)"
   ]
  },
  {
   "cell_type": "code",
<<<<<<< HEAD
   "execution_count": 271,
=======
   "execution_count": 123,
>>>>>>> 6375323aae829e6ff68c691288ed7ada2ffd12cf
   "metadata": {},
   "outputs": [
    {
     "name": "stdout",
     "output_type": "stream",
     "text": [
<<<<<<< HEAD
      "16/16 [==============================] - 0s 1ms/step\n"
=======
      "16/16 [==============================] - 0s 627us/step\n"
>>>>>>> 6375323aae829e6ff68c691288ed7ada2ffd12cf
     ]
    }
   ],
   "source": [
    "results_test = model.evaluate(val_images, val_y)"
   ]
  },
  {
   "cell_type": "code",
<<<<<<< HEAD
   "execution_count": 272,
=======
   "execution_count": 124,
>>>>>>> 6375323aae829e6ff68c691288ed7ada2ffd12cf
   "metadata": {},
   "outputs": [
    {
     "data": {
      "text/plain": [
<<<<<<< HEAD
       "[0.18965857338868766, 0.9298312883435583, 0.8545861296901874]"
      ]
     },
     "execution_count": 272,
=======
       "[0.5397857502559943, 0.7494248466257669, 0.993288590529956]"
      ]
     },
     "execution_count": 124,
>>>>>>> 6375323aae829e6ff68c691288ed7ada2ffd12cf
     "metadata": {},
     "output_type": "execute_result"
    }
   ],
   "source": [
    "results_train"
   ]
  },
  {
   "cell_type": "code",
<<<<<<< HEAD
   "execution_count": 273,
=======
   "execution_count": 125,
>>>>>>> 6375323aae829e6ff68c691288ed7ada2ffd12cf
   "metadata": {},
   "outputs": [
    {
     "data": {
      "text/plain": [
<<<<<<< HEAD
       "[0.8794382810592651, 0.625, 0.249999996875]"
      ]
     },
     "execution_count": 273,
=======
       "[0.5209711790084839, 0.8125, 0.8749999890625002]"
      ]
     },
     "execution_count": 125,
>>>>>>> 6375323aae829e6ff68c691288ed7ada2ffd12cf
     "metadata": {},
     "output_type": "execute_result"
    }
   ],
   "source": [
    "results_test"
   ]
  },
  {
   "cell_type": "code",
<<<<<<< HEAD
   "execution_count": 252,
   "metadata": {},
   "outputs": [
    {
     "data": {
      "text/plain": [
       "array([[0],\n",
       "       [0],\n",
       "       [0],\n",
       "       [0],\n",
       "       [0],\n",
       "       [0],\n",
       "       [1],\n",
       "       [0],\n",
       "       [0],\n",
       "       [0],\n",
       "       [0],\n",
       "       [0],\n",
       "       [0],\n",
       "       [1],\n",
       "       [0],\n",
       "       [0]], dtype=int32)"
      ]
     },
     "execution_count": 252,
     "metadata": {},
     "output_type": "execute_result"
    }
   ],
   "source": [
    "model.predict_classes(val_images)"
   ]
  },
  {
   "cell_type": "code",
   "execution_count": 253,
=======
   "execution_count": 119,
>>>>>>> 6375323aae829e6ff68c691288ed7ada2ffd12cf
   "metadata": {},
   "outputs": [
    {
     "name": "stdout",
     "output_type": "stream",
     "text": [
      "_________________________________________________________________\n",
      "Layer (type)                 Output Shape              Param #   \n",
      "=================================================================\n",
<<<<<<< HEAD
      "conv2d_72 (Conv2D)           (None, 62, 62, 6)         168       \n",
      "_________________________________________________________________\n",
      "max_pooling2d_71 (MaxPooling (None, 20, 20, 6)         0         \n",
      "_________________________________________________________________\n",
      "conv2d_73 (Conv2D)           (None, 18, 18, 12)        660       \n",
      "_________________________________________________________________\n",
      "max_pooling2d_72 (MaxPooling (None, 6, 6, 12)          0         \n",
      "_________________________________________________________________\n",
      "conv2d_74 (Conv2D)           (None, 4, 4, 18)          1962      \n",
      "_________________________________________________________________\n",
      "max_pooling2d_73 (MaxPooling (None, 1, 1, 18)          0         \n",
      "_________________________________________________________________\n",
      "flatten_24 (Flatten)         (None, 18)                0         \n",
      "_________________________________________________________________\n",
      "dense_24 (Dense)             (None, 1)                 19        \n",
=======
      "conv2d_42 (Conv2D)           (None, 62, 62, 6)         168       \n",
      "_________________________________________________________________\n",
      "max_pooling2d_41 (MaxPooling (None, 20, 20, 6)         0         \n",
      "_________________________________________________________________\n",
      "dropout_41 (Dropout)         (None, 20, 20, 6)         0         \n",
      "_________________________________________________________________\n",
      "conv2d_43 (Conv2D)           (None, 18, 18, 12)        660       \n",
      "_________________________________________________________________\n",
      "max_pooling2d_42 (MaxPooling (None, 6, 6, 12)          0         \n",
      "_________________________________________________________________\n",
      "dropout_42 (Dropout)         (None, 6, 6, 12)          0         \n",
      "_________________________________________________________________\n",
      "conv2d_44 (Conv2D)           (None, 4, 4, 18)          1962      \n",
      "_________________________________________________________________\n",
      "max_pooling2d_43 (MaxPooling (None, 1, 1, 18)          0         \n",
      "_________________________________________________________________\n",
      "dropout_43 (Dropout)         (None, 1, 1, 18)          0         \n",
      "_________________________________________________________________\n",
      "flatten_14 (Flatten)         (None, 18)                0         \n",
      "_________________________________________________________________\n",
      "dense_14 (Dense)             (None, 1)                 19        \n",
>>>>>>> 6375323aae829e6ff68c691288ed7ada2ffd12cf
      "=================================================================\n",
      "Total params: 2,809\n",
      "Trainable params: 2,809\n",
      "Non-trainable params: 0\n",
      "_________________________________________________________________\n"
     ]
    }
   ],
   "source": [
    "model.summary()"
   ]
  },
  {
   "cell_type": "markdown",
   "metadata": {},
   "source": [
    "---"
   ]
  },
  {
   "cell_type": "code",
<<<<<<< HEAD
   "execution_count": 254,
=======
   "execution_count": 98,
>>>>>>> 6375323aae829e6ff68c691288ed7ada2ffd12cf
   "metadata": {},
   "outputs": [
    {
     "data": {
<<<<<<< HEAD
      "image/png": "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\n",
=======
      "image/png": "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\n",
>>>>>>> 6375323aae829e6ff68c691288ed7ada2ffd12cf
      "text/plain": [
       "<Figure size 432x288 with 1 Axes>"
      ]
     },
     "metadata": {
      "needs_background": "light"
     },
     "output_type": "display_data"
    },
    {
     "data": {
<<<<<<< HEAD
      "image/png": "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\n",
=======
      "image/png": "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\n",
>>>>>>> 6375323aae829e6ff68c691288ed7ada2ffd12cf
      "text/plain": [
       "<Figure size 432x288 with 1 Axes>"
      ]
     },
     "metadata": {
      "needs_background": "light"
     },
     "output_type": "display_data"
    }
   ],
   "source": [
    "import matplotlib.pyplot as plt\n",
    "%matplotlib inline \n",
    "\n",
    "rec = history.history['recall']\n",
    "val_rec = history.history['val_recall']\n",
    "loss = history.history['loss']\n",
    "val_loss = history.history['val_loss']\n",
    "epochs = range(len(rec))\n",
    "plt.plot(epochs, rec, 'bo', label='Training acc')\n",
    "plt.plot(epochs, val_rec, 'r', label='Validation acc')\n",
    "plt.title('Training and validation Recall')\n",
    "plt.xlabel('Epochs')\n",
    "plt.legend()\n",
    "plt.figure()\n",
    "plt.plot(epochs, loss, 'bo', label='Training loss')\n",
    "plt.plot(epochs, val_loss, 'r', label='Validation loss')\n",
    "plt.title('Training and validation loss')\n",
    "plt.legend()\n",
    "plt.show()"
   ]
  },
  {
   "cell_type": "code",
<<<<<<< HEAD
   "execution_count": 255,
   "metadata": {},
   "outputs": [
    {
     "name": "stdout",
     "output_type": "stream",
     "text": [
      "Confusion Matrix, without normalization\n",
      "[[3721  154]\n",
      " [ 211 1130]]\n",
      "              precision    recall  f1-score   support\n",
      "\n",
      "         0.0       0.95      0.96      0.95      3875\n",
      "         1.0       0.88      0.84      0.86      1341\n",
      "\n",
      "    accuracy                           0.93      5216\n",
      "   macro avg       0.91      0.90      0.91      5216\n",
      "weighted avg       0.93      0.93      0.93      5216\n",
      "\n",
      "roc_auc_score: 0.901456399894157\n"
     ]
    },
    {
     "data": {
      "image/png": "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\n",
      "text/plain": [
       "<Figure size 432x288 with 2 Axes>"
      ]
     },
     "metadata": {
      "needs_background": "light"
     },
     "output_type": "display_data"
    }
   ],
   "source": [
    "y_pred = model.predict_classes(train_images)\n",
    "\n",
    "cm = confusion_matrix(train_y, y_pred)\n",
    "classes = ['Negative', 'Positive']\n",
    "plot_confusion_matrix(cm, classes,\n",
    "                      normalize=False,\n",
    "                      title='Confusion matrix')\n",
    "\n",
    "#Checking performance our model with classification report.\n",
    "print(classification_report(train_y, y_pred))\n",
    "#Checking performance our model with ROC Score.\n",
    "print ('roc_auc_score:', roc_auc_score(train_y, y_pred))"
   ]
  },
  {
   "cell_type": "code",
   "execution_count": null,
   "metadata": {},
   "outputs": [],
   "source": []
  },
  {
   "cell_type": "code",
   "execution_count": 245,
   "metadata": {},
   "outputs": [
    {
     "ename": "NameError",
     "evalue": "name 'clf_van' is not defined",
     "output_type": "error",
     "traceback": [
      "\u001b[0;31m---------------------------------------------------------------------------\u001b[0m",
      "\u001b[0;31mNameError\u001b[0m                                 Traceback (most recent call last)",
      "\u001b[0;32m<ipython-input-245-522491c01efd>\u001b[0m in \u001b[0;36m<module>\u001b[0;34m\u001b[0m\n\u001b[0;32m----> 1\u001b[0;31m \u001b[0mclf_van\u001b[0m\u001b[0;34m.\u001b[0m\u001b[0mfit\u001b[0m\u001b[0;34m(\u001b[0m\u001b[0mX_test\u001b[0m\u001b[0;34m,\u001b[0m \u001b[0my_test\u001b[0m\u001b[0;34m)\u001b[0m\u001b[0;34m\u001b[0m\u001b[0;34m\u001b[0m\u001b[0m\n\u001b[0m\u001b[1;32m      2\u001b[0m \u001b[0my_pred_van\u001b[0m \u001b[0;34m=\u001b[0m \u001b[0mclf_van\u001b[0m\u001b[0;34m.\u001b[0m\u001b[0mpredict\u001b[0m\u001b[0;34m(\u001b[0m\u001b[0mX_test\u001b[0m\u001b[0;34m)\u001b[0m\u001b[0;34m\u001b[0m\u001b[0;34m\u001b[0m\u001b[0m\n\u001b[1;32m      3\u001b[0m \u001b[0my_prob_van\u001b[0m \u001b[0;34m=\u001b[0m \u001b[0mclf_van\u001b[0m\u001b[0;34m.\u001b[0m\u001b[0mpredict_proba\u001b[0m\u001b[0;34m(\u001b[0m\u001b[0mX_test\u001b[0m\u001b[0;34m)\u001b[0m\u001b[0;34m\u001b[0m\u001b[0;34m\u001b[0m\u001b[0m\n",
      "\u001b[0;31mNameError\u001b[0m: name 'clf_van' is not defined"
     ]
    }
   ],
   "source": [
    "clf_van.fit(X_test, y_test)\n",
    "y_pred_van = clf_van.predict(X_test)\n",
    "y_prob_van = clf_van.predict_proba(X_test)"
   ]
  },
  {
   "cell_type": "code",
   "execution_count": 143,
   "metadata": {},
   "outputs": [
    {
     "ename": "NameError",
     "evalue": "name 'y_prob' is not defined",
     "output_type": "error",
     "traceback": [
      "\u001b[0;31m---------------------------------------------------------------------------\u001b[0m",
      "\u001b[0;31mNameError\u001b[0m                                 Traceback (most recent call last)",
      "\u001b[0;32m<ipython-input-143-76e278cfdad7>\u001b[0m in \u001b[0;36m<module>\u001b[0;34m\u001b[0m\n\u001b[0;32m----> 1\u001b[0;31m \u001b[0mfpr\u001b[0m\u001b[0;34m,\u001b[0m \u001b[0mtpr\u001b[0m\u001b[0;34m,\u001b[0m \u001b[0mthresholds\u001b[0m \u001b[0;34m=\u001b[0m \u001b[0mroc_curve\u001b[0m\u001b[0;34m(\u001b[0m\u001b[0mtrain_images\u001b[0m\u001b[0;34m,\u001b[0m \u001b[0my_prob\u001b[0m\u001b[0;34m[\u001b[0m\u001b[0;34m:\u001b[0m\u001b[0;34m,\u001b[0m\u001b[0;36m1\u001b[0m\u001b[0;34m]\u001b[0m\u001b[0;34m)\u001b[0m\u001b[0;34m\u001b[0m\u001b[0;34m\u001b[0m\u001b[0m\n\u001b[0m\u001b[1;32m      2\u001b[0m \u001b[0mfpr_v\u001b[0m\u001b[0;34m,\u001b[0m \u001b[0mtpr_v\u001b[0m\u001b[0;34m,\u001b[0m \u001b[0mthresholds_v\u001b[0m \u001b[0;34m=\u001b[0m \u001b[0mroc_curve\u001b[0m\u001b[0;34m(\u001b[0m\u001b[0my_test\u001b[0m\u001b[0;34m,\u001b[0m \u001b[0my_prob_van\u001b[0m\u001b[0;34m[\u001b[0m\u001b[0;34m:\u001b[0m\u001b[0;34m,\u001b[0m\u001b[0;36m1\u001b[0m\u001b[0;34m]\u001b[0m\u001b[0;34m)\u001b[0m\u001b[0;34m\u001b[0m\u001b[0;34m\u001b[0m\u001b[0m\n",
      "\u001b[0;31mNameError\u001b[0m: name 'y_prob' is not defined"
     ]
    }
   ],
   "source": [
    "fpr, tpr, thresholds = roc_curve(train_images, y_prob[:,1])\n",
    "fpr_v, tpr_v, thresholds_v = roc_curve(y_test, y_prob_van[:,1])"
   ]
  },
  {
   "cell_type": "code",
   "execution_count": 144,
   "metadata": {},
   "outputs": [
    {
     "ename": "NameError",
     "evalue": "name 'fpr_v' is not defined",
     "output_type": "error",
     "traceback": [
      "\u001b[0;31m---------------------------------------------------------------------------\u001b[0m",
      "\u001b[0;31mNameError\u001b[0m                                 Traceback (most recent call last)",
      "\u001b[0;32m<ipython-input-144-f6834e78e65b>\u001b[0m in \u001b[0;36m<module>\u001b[0;34m\u001b[0m\n\u001b[1;32m      6\u001b[0m     \u001b[0mplt\u001b[0m\u001b[0;34m.\u001b[0m\u001b[0mylabel\u001b[0m\u001b[0;34m(\u001b[0m\u001b[0;34m'True Positive Rate'\u001b[0m\u001b[0;34m)\u001b[0m\u001b[0;34m\u001b[0m\u001b[0;34m\u001b[0m\u001b[0m\n\u001b[1;32m      7\u001b[0m \u001b[0;34m\u001b[0m\u001b[0m\n\u001b[0;32m----> 8\u001b[0;31m \u001b[0mplot_roc_curve\u001b[0m\u001b[0;34m(\u001b[0m\u001b[0mfpr_v\u001b[0m\u001b[0;34m,\u001b[0m \u001b[0mtpr_v\u001b[0m\u001b[0;34m,\u001b[0m \u001b[0mlabel\u001b[0m \u001b[0;34m=\u001b[0m \u001b[0;34m'Vanilla'\u001b[0m\u001b[0;34m)\u001b[0m\u001b[0;34m\u001b[0m\u001b[0;34m\u001b[0m\u001b[0m\n\u001b[0m\u001b[1;32m      9\u001b[0m \u001b[0mplot_roc_curve\u001b[0m\u001b[0;34m(\u001b[0m\u001b[0mfpr\u001b[0m\u001b[0;34m,\u001b[0m \u001b[0mtpr\u001b[0m\u001b[0;34m,\u001b[0m \u001b[0mlabel\u001b[0m \u001b[0;34m=\u001b[0m \u001b[0;34m'Tuned Model'\u001b[0m\u001b[0;34m)\u001b[0m\u001b[0;34m\u001b[0m\u001b[0;34m\u001b[0m\u001b[0m\n\u001b[1;32m     10\u001b[0m \u001b[0mplt\u001b[0m\u001b[0;34m.\u001b[0m\u001b[0mlegend\u001b[0m\u001b[0;34m(\u001b[0m\u001b[0;34m)\u001b[0m\u001b[0;34m\u001b[0m\u001b[0;34m\u001b[0m\u001b[0m\n",
      "\u001b[0;31mNameError\u001b[0m: name 'fpr_v' is not defined"
     ]
    }
   ],
   "source": [
    "    def plot_roc_curve(fpr, tpr, label = None):\n",
    "        plt.plot(fpr, tpr, linewidth =5 , label = label)\n",
    "        plt.plot([0,1], [0,1], 'k--')\n",
    "        plt.axis([0, 1, 0, 1])\n",
    "        plt.xlabel('False Positive Rate')\n",
    "        plt.ylabel('True Positive Rate')\n",
    "\n",
    "    plot_roc_curve(fpr_v, tpr_v, label = 'Vanilla')\n",
    "    plot_roc_curve(fpr, tpr, label = 'Tuned Model')\n",
    "    plt.legend()\n",
    "    plt.show()"
   ]
  },
  {
   "cell_type": "code",
=======
>>>>>>> 6375323aae829e6ff68c691288ed7ada2ffd12cf
   "execution_count": null,
   "metadata": {},
   "outputs": [],
   "source": []
  }
 ],
 "metadata": {
  "kernelspec": {
   "display_name": "Python [conda env:learn-env] *",
   "language": "python",
   "name": "conda-env-learn-env-py"
  },
  "language_info": {
   "codemirror_mode": {
    "name": "ipython",
    "version": 3
   },
   "file_extension": ".py",
   "mimetype": "text/x-python",
   "name": "python",
   "nbconvert_exporter": "python",
   "pygments_lexer": "ipython3",
   "version": "3.6.9"
  }
 },
 "nbformat": 4,
 "nbformat_minor": 4
}
