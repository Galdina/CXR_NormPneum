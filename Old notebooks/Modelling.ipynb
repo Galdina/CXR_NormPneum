{
 "cells": [
  {
   "cell_type": "code",
   "execution_count": 78,
   "metadata": {},
   "outputs": [],
   "source": [
    "import tensorflow as tf\n",
    "\n",
    "from tensorflow import keras\n",
    "\n",
    "import numpy as np\n",
    "\n",
    "import pandas as pd\n",
    "\n",
    "import os\n",
    "\n",
    "import sys\n",
    "\n",
    "import matplotlib.pyplot as plt\n",
    "\n",
    "%matplotlib inline\n",
    "\n",
    "#!{sys.executable} -m pip install opencv-python\n",
    "\n",
    "import time\n",
    "import matplotlib.pyplot as plt\n",
    "import scipy\n",
    "import numpy as np\n",
    "from PIL import Image\n",
    "from scipy import ndimage\n",
    "from keras.preprocessing.image import ImageDataGenerator, array_to_img, img_to_array, load_img\n",
    "import keras_metrics\n",
    "\n",
    "from keras import optimizers\n",
    "\n",
    "\n",
    "\n",
    "np.random.seed(123)"
   ]
  },
  {
   "cell_type": "code",
   "execution_count": 4,
   "metadata": {},
   "outputs": [],
   "source": [
    "test_folder = '../data/test'\n",
    "train_folder = '../data/train'\n",
    "val_folder = '../data/val'"
   ]
  },
  {
   "cell_type": "code",
   "execution_count": 85,
   "metadata": {},
   "outputs": [
    {
     "name": "stdout",
     "output_type": "stream",
     "text": [
      "Found 624 images belonging to 2 classes.\n",
      "Found 16 images belonging to 2 classes.\n",
      "Found 5216 images belonging to 2 classes.\n"
     ]
    }
   ],
   "source": [
    "test_generator = ImageDataGenerator(rescale=1./255).flow_from_directory(\n",
    "        test_folder, \n",
    "        target_size=(64,64), batch_size = 627) \n",
    "\n",
    "val_generator = ImageDataGenerator(rescale=1./255).flow_from_directory(\n",
    "        val_folder, \n",
    "        target_size=(64,64), batch_size = 19)\n",
    "\n",
    "train_generator = ImageDataGenerator(rescale=1./255).flow_from_directory(\n",
    "        train_folder, \n",
    "        target_size=(64,64), batch_size=5219)"
   ]
  },
  {
   "cell_type": "code",
   "execution_count": 86,
   "metadata": {},
   "outputs": [],
   "source": [
    "train_images, train_labels = next(train_generator)\n",
    "test_images, test_labels = next(test_generator)\n",
    "val_images, val_labels = next(val_generator)"
   ]
  },
  {
   "cell_type": "code",
   "execution_count": 7,
   "metadata": {},
   "outputs": [
    {
     "name": "stdout",
     "output_type": "stream",
     "text": [
      "Number of training samples: 5216\n",
      "Number of testing samples: 624\n",
      "Number of validation samples: 16\n",
      "train_images shape: (5216, 64, 64, 3)\n",
      "train_labels shape: (5216, 2)\n",
      "test_images shape: (624, 64, 64, 3)\n",
      "test_labels shape: (624, 2)\n",
      "val_images shape: (16, 64, 64, 3)\n",
      "val_labels shape: (16, 2)\n"
     ]
    }
   ],
   "source": [
    "# Explore your dataset again\n",
    "m_train = train_images.shape[0]\n",
    "num_px = train_images.shape[1]\n",
    "m_test = test_images.shape[0]\n",
    "m_val = val_images.shape[0]\n",
    "\n",
    "print (\"Number of training samples: \" + str(m_train))\n",
    "print (\"Number of testing samples: \" + str(m_test))\n",
    "print (\"Number of validation samples: \" + str(m_val))\n",
    "print (\"train_images shape: \" + str(train_images.shape))\n",
    "print (\"train_labels shape: \" + str(train_labels.shape))\n",
    "print (\"test_images shape: \" + str(test_images.shape))\n",
    "print (\"test_labels shape: \" + str(test_labels.shape))\n",
    "print (\"val_images shape: \" + str(val_images.shape))\n",
    "print (\"val_labels shape: \" + str(val_labels.shape))"
   ]
  },
  {
   "cell_type": "code",
   "execution_count": 87,
   "metadata": {},
   "outputs": [
    {
     "name": "stdout",
     "output_type": "stream",
     "text": [
      "(5216, 12288)\n",
      "(624, 12288)\n",
      "(16, 12288)\n"
     ]
    }
   ],
   "source": [
    "train_img = train_images.reshape(train_images.shape[0], -1)\n",
    "test_img = test_images.reshape(test_images.shape[0], -1)\n",
    "val_img = val_images.reshape(val_images.shape[0], -1)\n",
    "\n",
    "print(train_img.shape)\n",
    "print(test_img.shape)\n",
    "print(val_img.shape)"
   ]
  },
  {
   "cell_type": "code",
   "execution_count": 88,
   "metadata": {},
   "outputs": [],
   "source": [
    "train_y = np.reshape(train_labels[:,0], (5216,1))\n",
    "test_y = np.reshape(test_labels[:,0], (624,1))\n",
    "val_y = np.reshape(val_labels[:,0], (16,1))"
   ]
  },
  {
   "cell_type": "markdown",
   "metadata": {},
   "source": [
    "# Modeling"
   ]
  },
  {
   "cell_type": "markdown",
   "metadata": {
    "toc-hr-collapsed": true,
    "toc-nb-collapsed": true
   },
   "source": [
    "## Baseline fully-connected"
   ]
  },
  {
   "cell_type": "code",
   "execution_count": 30,
   "metadata": {},
   "outputs": [],
   "source": [
    "from keras import models\n",
    "from keras import layers\n",
    "import keras_metrics\n",
    "np.random.seed(123)\n",
    "model = models.Sequential()\n",
    "model.add(layers.Dense(20, activation='relu', input_shape=(12288,))) # 2 hidden layers\n",
    "#model.add(layers.Dense(20, activation='relu', input_shape=(12288,))) # 2 hidden layers\n",
    "#model.add(layers.Dense(20, activation='relu', input_shape=(12288,))) # 2 hidden layers\n",
    "\n",
    "model.add(layers.Dense(7, activation='relu'))\n",
    "model.add(layers.Dense(5, activation='relu'))\n",
    "model.add(layers.Dense(1, activation='sigmoid'))"
   ]
  },
  {
   "cell_type": "code",
   "execution_count": 31,
   "metadata": {},
   "outputs": [
    {
     "name": "stdout",
     "output_type": "stream",
     "text": [
      "Train on 5216 samples, validate on 16 samples\n",
      "Epoch 1/50\n",
      "5216/5216 [==============================] - 1s 131us/step - loss: 0.5061 - acc: 0.7644 - val_loss: 0.9144 - val_acc: 0.5625\n",
      "Epoch 2/50\n",
      "5216/5216 [==============================] - 0s 82us/step - loss: 0.3625 - acc: 0.8522 - val_loss: 1.2546 - val_acc: 0.6250\n",
      "Epoch 3/50\n",
      "5216/5216 [==============================] - 0s 83us/step - loss: 0.2739 - acc: 0.8934 - val_loss: 0.5249 - val_acc: 0.7500\n",
      "Epoch 4/50\n",
      "5216/5216 [==============================] - 0s 83us/step - loss: 0.2222 - acc: 0.9118 - val_loss: 0.7708 - val_acc: 0.6875\n",
      "Epoch 5/50\n",
      "5216/5216 [==============================] - 0s 82us/step - loss: 0.2043 - acc: 0.9216 - val_loss: 0.4709 - val_acc: 0.8125\n",
      "Epoch 6/50\n",
      "5216/5216 [==============================] - 0s 83us/step - loss: 0.1880 - acc: 0.9258 - val_loss: 0.3695 - val_acc: 0.8750\n",
      "Epoch 7/50\n",
      "5216/5216 [==============================] - 0s 84us/step - loss: 0.1675 - acc: 0.9342 - val_loss: 0.6678 - val_acc: 0.7500\n",
      "Epoch 8/50\n",
      "5216/5216 [==============================] - 0s 85us/step - loss: 0.1515 - acc: 0.9419 - val_loss: 0.2661 - val_acc: 0.9375\n",
      "Epoch 9/50\n",
      "5216/5216 [==============================] - 0s 84us/step - loss: 0.1696 - acc: 0.9302 - val_loss: 0.2970 - val_acc: 0.9375\n",
      "Epoch 10/50\n",
      "5216/5216 [==============================] - 0s 83us/step - loss: 0.1570 - acc: 0.9398 - val_loss: 1.7725 - val_acc: 0.5000\n",
      "Epoch 11/50\n",
      "5216/5216 [==============================] - 0s 84us/step - loss: 0.1589 - acc: 0.9362 - val_loss: 0.4340 - val_acc: 0.8125\n",
      "Epoch 12/50\n",
      "5216/5216 [==============================] - 0s 93us/step - loss: 0.1283 - acc: 0.9517 - val_loss: 0.8336 - val_acc: 0.6875\n",
      "Epoch 13/50\n",
      "5216/5216 [==============================] - 0s 91us/step - loss: 0.1459 - acc: 0.9446 - val_loss: 0.2779 - val_acc: 0.9375\n",
      "Epoch 14/50\n",
      "5216/5216 [==============================] - 0s 94us/step - loss: 0.1322 - acc: 0.9465 - val_loss: 0.3203 - val_acc: 0.9375\n",
      "Epoch 15/50\n",
      "5216/5216 [==============================] - 0s 92us/step - loss: 0.1339 - acc: 0.9477 - val_loss: 0.2428 - val_acc: 0.9375\n",
      "Epoch 16/50\n",
      "5216/5216 [==============================] - 0s 88us/step - loss: 0.1268 - acc: 0.9530 - val_loss: 0.2888 - val_acc: 0.9375\n",
      "Epoch 17/50\n",
      "5216/5216 [==============================] - 0s 87us/step - loss: 0.1255 - acc: 0.9525 - val_loss: 0.2317 - val_acc: 0.8750\n",
      "Epoch 18/50\n",
      "5216/5216 [==============================] - 0s 87us/step - loss: 0.1227 - acc: 0.9530 - val_loss: 0.2686 - val_acc: 0.9375\n",
      "Epoch 19/50\n",
      "5216/5216 [==============================] - 0s 86us/step - loss: 0.1275 - acc: 0.9523 - val_loss: 0.4622 - val_acc: 0.8125\n",
      "Epoch 20/50\n",
      "5216/5216 [==============================] - 0s 86us/step - loss: 0.1224 - acc: 0.9542 - val_loss: 0.1886 - val_acc: 0.9375\n",
      "Epoch 21/50\n",
      "5216/5216 [==============================] - 0s 88us/step - loss: 0.1214 - acc: 0.9540 - val_loss: 0.2794 - val_acc: 0.9375\n",
      "Epoch 22/50\n",
      "5216/5216 [==============================] - 0s 88us/step - loss: 0.1119 - acc: 0.9580 - val_loss: 0.3355 - val_acc: 0.9375\n",
      "Epoch 23/50\n",
      "5216/5216 [==============================] - 0s 85us/step - loss: 0.1175 - acc: 0.9557 - val_loss: 0.3616 - val_acc: 0.9375\n",
      "Epoch 24/50\n",
      "5216/5216 [==============================] - 0s 86us/step - loss: 0.1091 - acc: 0.9582 - val_loss: 0.5449 - val_acc: 0.8125\n",
      "Epoch 25/50\n",
      "5216/5216 [==============================] - 0s 83us/step - loss: 0.1042 - acc: 0.9578 - val_loss: 0.5447 - val_acc: 0.8125\n",
      "Epoch 26/50\n",
      "5216/5216 [==============================] - 0s 84us/step - loss: 0.1194 - acc: 0.9505 - val_loss: 0.2109 - val_acc: 0.9375\n",
      "Epoch 27/50\n",
      "5216/5216 [==============================] - 0s 84us/step - loss: 0.1095 - acc: 0.9580 - val_loss: 0.3349 - val_acc: 0.9375\n",
      "Epoch 28/50\n",
      "5216/5216 [==============================] - 0s 84us/step - loss: 0.1087 - acc: 0.9590 - val_loss: 0.3444 - val_acc: 0.9375\n",
      "Epoch 29/50\n",
      "5216/5216 [==============================] - 0s 88us/step - loss: 0.1059 - acc: 0.9595 - val_loss: 0.2404 - val_acc: 0.9375\n",
      "Epoch 30/50\n",
      "5216/5216 [==============================] - 0s 91us/step - loss: 0.1108 - acc: 0.9569 - val_loss: 0.4215 - val_acc: 0.8125\n",
      "Epoch 31/50\n",
      "5216/5216 [==============================] - 0s 83us/step - loss: 0.1053 - acc: 0.9592 - val_loss: 0.3378 - val_acc: 0.8125\n",
      "Epoch 32/50\n",
      "5216/5216 [==============================] - 0s 84us/step - loss: 0.1037 - acc: 0.9588 - val_loss: 0.5379 - val_acc: 0.6875\n",
      "Epoch 33/50\n",
      "5216/5216 [==============================] - 0s 84us/step - loss: 0.1026 - acc: 0.9601 - val_loss: 0.3349 - val_acc: 0.9375\n",
      "Epoch 34/50\n",
      "5216/5216 [==============================] - 0s 83us/step - loss: 0.1032 - acc: 0.9601 - val_loss: 0.3438 - val_acc: 0.9375\n",
      "Epoch 35/50\n",
      "5216/5216 [==============================] - 0s 86us/step - loss: 0.1040 - acc: 0.9592 - val_loss: 0.4575 - val_acc: 0.8125\n",
      "Epoch 36/50\n",
      "5216/5216 [==============================] - 0s 84us/step - loss: 0.0950 - acc: 0.9672 - val_loss: 0.5062 - val_acc: 0.8125\n",
      "Epoch 37/50\n",
      "5216/5216 [==============================] - 0s 85us/step - loss: 0.1030 - acc: 0.9595 - val_loss: 0.4461 - val_acc: 0.8125\n",
      "Epoch 38/50\n",
      "5216/5216 [==============================] - 0s 85us/step - loss: 0.1012 - acc: 0.9603 - val_loss: 0.3026 - val_acc: 0.8125\n",
      "Epoch 39/50\n",
      "5216/5216 [==============================] - 0s 85us/step - loss: 0.0989 - acc: 0.9618 - val_loss: 0.3407 - val_acc: 0.8125\n",
      "Epoch 40/50\n",
      "5216/5216 [==============================] - 0s 93us/step - loss: 0.1019 - acc: 0.9607 - val_loss: 0.4605 - val_acc: 0.8125\n",
      "Epoch 41/50\n",
      "5216/5216 [==============================] - 0s 85us/step - loss: 0.0929 - acc: 0.9636 - val_loss: 0.2093 - val_acc: 0.9375\n",
      "Epoch 42/50\n",
      "5216/5216 [==============================] - 0s 83us/step - loss: 0.1034 - acc: 0.9601 - val_loss: 0.2650 - val_acc: 0.8125\n",
      "Epoch 43/50\n",
      "5216/5216 [==============================] - 0s 83us/step - loss: 0.0977 - acc: 0.9636 - val_loss: 0.2664 - val_acc: 0.9375\n",
      "Epoch 44/50\n",
      "5216/5216 [==============================] - 0s 85us/step - loss: 0.1069 - acc: 0.9615 - val_loss: 0.4544 - val_acc: 0.8125\n",
      "Epoch 45/50\n",
      "5216/5216 [==============================] - 0s 86us/step - loss: 0.0964 - acc: 0.9647 - val_loss: 0.4450 - val_acc: 0.8125\n",
      "Epoch 46/50\n",
      "5216/5216 [==============================] - 0s 84us/step - loss: 0.0902 - acc: 0.9684 - val_loss: 0.6019 - val_acc: 0.7500\n",
      "Epoch 47/50\n",
      "5216/5216 [==============================] - 0s 86us/step - loss: 0.1073 - acc: 0.9582 - val_loss: 0.7121 - val_acc: 0.6875\n",
      "Epoch 48/50\n",
      "5216/5216 [==============================] - 0s 85us/step - loss: 0.0896 - acc: 0.9655 - val_loss: 0.3996 - val_acc: 0.8125\n",
      "Epoch 49/50\n",
      "5216/5216 [==============================] - 0s 86us/step - loss: 0.0913 - acc: 0.9661 - val_loss: 0.2373 - val_acc: 0.9375\n",
      "Epoch 50/50\n",
      "5216/5216 [==============================] - 0s 86us/step - loss: 0.0918 - acc: 0.9643 - val_loss: 0.4091 - val_acc: 0.8125\n"
     ]
    }
   ],
   "source": [
    "model.compile(optimizer='sgd',\n",
    "              loss='binary_crossentropy',\n",
    "              metrics=['accuracy'])\n",
    "\n",
    "histoire = model.fit(train_img,\n",
    "                    train_y,\n",
    "                    epochs=50,\n",
    "                    batch_size=32,\n",
    "                    validation_data=(val_img, val_y),\n",
    "                    verbose=1)"
   ]
  },
  {
   "cell_type": "code",
   "execution_count": 32,
   "metadata": {},
   "outputs": [
    {
     "name": "stdout",
     "output_type": "stream",
     "text": [
      "5216/5216 [==============================] - 0s 43us/step\n"
     ]
    }
   ],
   "source": [
    "results_train = model.evaluate(train_img, train_y)"
   ]
  },
  {
   "cell_type": "code",
   "execution_count": 33,
   "metadata": {},
   "outputs": [
    {
     "name": "stdout",
     "output_type": "stream",
     "text": [
      "624/624 [==============================] - 0s 42us/step\n"
     ]
    }
   ],
   "source": [
    "results_test = model.evaluate(test_img, test_y)"
   ]
  },
  {
   "cell_type": "code",
   "execution_count": 34,
   "metadata": {},
   "outputs": [
    {
     "data": {
      "text/plain": [
       "[0.07206388393222737, 0.9739263803680982]"
      ]
     },
     "execution_count": 34,
     "metadata": {},
     "output_type": "execute_result"
    }
   ],
   "source": [
    "results_train"
   ]
  },
  {
   "cell_type": "code",
   "execution_count": 35,
   "metadata": {},
   "outputs": [
    {
     "data": {
      "text/plain": [
       "[1.0638171571951647, 0.7451923076923077]"
      ]
     },
     "execution_count": 35,
     "metadata": {},
     "output_type": "execute_result"
    }
   ],
   "source": [
    "results_test"
   ]
  },
  {
   "cell_type": "markdown",
   "metadata": {},
   "source": [
    "## CNN"
   ]
  },
  {
   "cell_type": "code",
   "execution_count": 89,
   "metadata": {},
   "outputs": [],
   "source": [
    "model = models.Sequential()\n",
    "\n",
    "model.add(layers.Conv2D(16, (3, 3), activation='relu',\n",
    "                        input_shape=(64 ,64,  3)))\n",
    "model.add(layers.MaxPooling2D((2, 2)))\n",
    "\n",
    "model.add(layers.Conv2D(64, (4, 4), activation='relu'))\n",
    "model.add(layers.MaxPooling2D((2, 2)))\n",
    "\n",
    "model.add(layers.Conv2D(128, (3, 3), activation='relu'))\n",
    "model.add(layers.MaxPooling2D((2, 2)))\n",
    "\n",
    "model.add(layers.Conv2D(256, (3, 3), activation='relu'))\n",
    "model.add(layers.MaxPooling2D((2, 2)))\n",
    "\n",
    "model.add(layers.Flatten())\n",
    "model.add(layers.Dense(512, activation='relu'))\n",
    "model.add(layers.Dense(1, activation='sigmoid'))"
   ]
  },
  {
   "cell_type": "code",
   "execution_count": 90,
   "metadata": {},
   "outputs": [],
   "source": [
    "model.compile(loss='binary_crossentropy',\n",
    "              optimizer=optimizers.SGD(lr=0.1, momentum=0.0, nesterov=False),\n",
    "              metrics=[keras_metrics.recall()])"
   ]
  },
  {
   "cell_type": "code",
   "execution_count": 91,
   "metadata": {},
   "outputs": [
    {
     "name": "stdout",
     "output_type": "stream",
     "text": [
      "Train on 5216 samples, validate on 16 samples\n",
      "Epoch 1/2\n",
      "5216/5216 [==============================] - 16s 3ms/step - loss: 0.5739 - recall: 0.0239 - val_loss: 0.8173 - val_recall: 0.0000e+00\n",
      "Epoch 2/2\n",
      "5216/5216 [==============================] - 18s 3ms/step - loss: 0.5171 - recall: 0.0872 - val_loss: 1.1897 - val_recall: 0.1250\n"
     ]
    }
   ],
   "source": [
    "history = model.fit(train_images,\n",
    "                    train_y,\n",
    "                    epochs=2,\n",
    "                    batch_size=32,\n",
    "                    validation_data=(val_images, val_y),\n",
    "                    verbose=1)"
   ]
  },
  {
   "cell_type": "code",
   "execution_count": 60,
   "metadata": {},
   "outputs": [
    {
     "name": "stdout",
     "output_type": "stream",
     "text": [
      "5216/5216 [==============================] - 24s 5ms/step\n"
     ]
    }
   ],
   "source": [
    "results_train = model.evaluate(train_images, train_y)"
   ]
  },
  {
   "cell_type": "code",
   "execution_count": 61,
   "metadata": {},
   "outputs": [
    {
     "name": "stdout",
     "output_type": "stream",
     "text": [
      "624/624 [==============================] - 3s 5ms/step\n"
     ]
    }
   ],
   "source": [
    "results_test = model.evaluate(test_images, test_y)"
   ]
  },
  {
   "cell_type": "code",
   "execution_count": 62,
   "metadata": {},
   "outputs": [
    {
     "data": {
      "text/plain": [
       "[0.5722823927373243, 0.0, 0.0]"
      ]
     },
     "execution_count": 62,
     "metadata": {},
     "output_type": "execute_result"
    }
   ],
   "source": [
    "results_train"
   ]
  },
  {
   "cell_type": "code",
   "execution_count": 63,
   "metadata": {},
   "outputs": [
    {
     "data": {
      "text/plain": [
       "[0.6865090620823395, 0.0, 0.0]"
      ]
     },
     "execution_count": 63,
     "metadata": {},
     "output_type": "execute_result"
    }
   ],
   "source": [
    "results_test"
   ]
  },
  {
   "cell_type": "code",
   "execution_count": null,
   "metadata": {},
   "outputs": [],
   "source": []
  },
  {
   "cell_type": "code",
   "execution_count": null,
   "metadata": {},
   "outputs": [],
   "source": []
  },
  {
   "cell_type": "code",
   "execution_count": null,
   "metadata": {},
   "outputs": [],
   "source": []
  },
  {
   "cell_type": "code",
   "execution_count": null,
   "metadata": {},
   "outputs": [],
   "source": []
  },
  {
   "cell_type": "code",
   "execution_count": null,
   "metadata": {},
   "outputs": [],
   "source": []
  },
  {
   "cell_type": "code",
   "execution_count": null,
   "metadata": {},
   "outputs": [],
   "source": []
  },
  {
   "cell_type": "code",
   "execution_count": null,
   "metadata": {},
   "outputs": [],
   "source": []
  },
  {
   "cell_type": "code",
   "execution_count": null,
   "metadata": {},
   "outputs": [],
   "source": []
  },
  {
   "cell_type": "code",
   "execution_count": 66,
   "metadata": {},
   "outputs": [],
   "source": [
    "model = models.Sequential()\n",
    "model.add(layers.Conv2D(16, (3, 3), activation='relu',\n",
    "                        input_shape=(128,128,  3)))\n",
    "model.add(layers.MaxPooling2D((2, 2)))\n",
    "\n",
    "model.add(layers.Conv2D(32, (4, 4), activation='relu'))\n",
    "model.add(layers.MaxPooling2D((2, 2)))\n",
    "\n",
    "model.add(layers.Conv2D(64, (3, 3), activation='relu'))\n",
    "model.add(layers.MaxPooling2D((2, 2)))\n",
    "\n",
    "model.add(layers.Flatten())\n",
    "model.add(layers.Dense(64, activation='relu'))\n",
    "model.add(layers.Dense(1, activation='sigmoid'))\n",
    "\n",
    "model.compile(loss='binary_crossentropy',\n",
    "              optimizer=\"sgd\",\n",
    "              metrics=[keras_metrics.precision(), keras_metrics.recall()])"
   ]
  },
  {
   "cell_type": "code",
   "execution_count": 67,
   "metadata": {},
   "outputs": [
    {
     "name": "stdout",
     "output_type": "stream",
     "text": [
      "Train on 5216 samples, validate on 16 samples\n",
      "Epoch 1/1\n",
      "5216/5216 [==============================] - 44s 8ms/step - loss: 0.5778 - precision: 0.0000e+00 - recall: 0.0000e+00 - val_loss: 0.7966 - val_precision: 0.0000e+00 - val_recall: 0.0000e+00\n"
     ]
    }
   ],
   "source": [
    "history = model.fit(train_images,\n",
    "                    train_y,\n",
    "                    epochs=1,\n",
    "                    batch_size=32,\n",
    "                    validation_data=(val_images, val_y),\n",
    "                    verbose=1)"
   ]
  },
  {
   "cell_type": "code",
   "execution_count": 68,
   "metadata": {},
   "outputs": [
    {
     "name": "stdout",
     "output_type": "stream",
     "text": [
      "5216/5216 [==============================] - 15s 3ms/step\n"
     ]
    }
   ],
   "source": [
    "results_train = model.evaluate(train_images, train_y)"
   ]
  },
  {
   "cell_type": "code",
   "execution_count": 69,
   "metadata": {},
   "outputs": [
    {
     "name": "stdout",
     "output_type": "stream",
     "text": [
      "624/624 [==============================] - 2s 3ms/step\n"
     ]
    }
   ],
   "source": [
    "results_test = model.evaluate(test_images, test_y)"
   ]
  },
  {
   "cell_type": "code",
   "execution_count": 70,
   "metadata": {},
   "outputs": [
    {
     "data": {
      "text/plain": [
       "[0.5725939910104669, 0.0, 0.0]"
      ]
     },
     "execution_count": 70,
     "metadata": {},
     "output_type": "execute_result"
    }
   ],
   "source": [
    "results_train"
   ]
  },
  {
   "cell_type": "code",
   "execution_count": 71,
   "metadata": {},
   "outputs": [
    {
     "data": {
      "text/plain": [
       "[0.6894019811581342, 0.0, 0.0]"
      ]
     },
     "execution_count": 71,
     "metadata": {},
     "output_type": "execute_result"
    }
   ],
   "source": [
    "results_test"
   ]
  },
  {
   "cell_type": "code",
   "execution_count": 72,
   "metadata": {},
   "outputs": [
    {
     "name": "stdout",
     "output_type": "stream",
     "text": [
      "_________________________________________________________________\n",
      "Layer (type)                 Output Shape              Param #   \n",
      "=================================================================\n",
      "conv2d_20 (Conv2D)           (None, 126, 126, 16)      448       \n",
      "_________________________________________________________________\n",
      "max_pooling2d_20 (MaxPooling (None, 63, 63, 16)        0         \n",
      "_________________________________________________________________\n",
      "conv2d_21 (Conv2D)           (None, 60, 60, 32)        8224      \n",
      "_________________________________________________________________\n",
      "max_pooling2d_21 (MaxPooling (None, 30, 30, 32)        0         \n",
      "_________________________________________________________________\n",
      "conv2d_22 (Conv2D)           (None, 28, 28, 64)        18496     \n",
      "_________________________________________________________________\n",
      "max_pooling2d_22 (MaxPooling (None, 14, 14, 64)        0         \n",
      "_________________________________________________________________\n",
      "flatten_6 (Flatten)          (None, 12544)             0         \n",
      "_________________________________________________________________\n",
      "dense_28 (Dense)             (None, 64)                802880    \n",
      "_________________________________________________________________\n",
      "dense_29 (Dense)             (None, 1)                 65        \n",
      "=================================================================\n",
      "Total params: 830,113\n",
      "Trainable params: 830,113\n",
      "Non-trainable params: 0\n",
      "_________________________________________________________________\n"
     ]
    }
   ],
   "source": [
    "model.summary()"
   ]
  },
  {
   "cell_type": "code",
   "execution_count": null,
   "metadata": {},
   "outputs": [],
   "source": []
  }
 ],
 "metadata": {
  "kernelspec": {
   "display_name": "Python [conda env:learn-env] *",
   "language": "python",
   "name": "conda-env-learn-env-py"
  },
  "language_info": {
   "codemirror_mode": {
    "name": "ipython",
    "version": 3
   },
   "file_extension": ".py",
   "mimetype": "text/x-python",
   "name": "python",
   "nbconvert_exporter": "python",
   "pygments_lexer": "ipython3",
   "version": "3.6.9"
  }
 },
 "nbformat": 4,
 "nbformat_minor": 4
}
