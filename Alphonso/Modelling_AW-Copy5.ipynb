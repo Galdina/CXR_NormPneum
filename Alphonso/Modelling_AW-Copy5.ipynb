{
 "cells": [
  {
   "cell_type": "markdown",
   "metadata": {},
   "source": [
    "# Imports"
   ]
  },
  {
   "cell_type": "code",
   "execution_count": 1,
   "metadata": {},
   "outputs": [
    {
     "name": "stderr",
     "output_type": "stream",
     "text": [
      "Using TensorFlow backend.\n"
     ]
    }
   ],
   "source": [
    "import tensorflow as tf\n",
    "from tensorflow import keras\n",
    "import numpy as np\n",
    "import pandas as pd\n",
    "import os\n",
    "import sys\n",
    "import matplotlib.pyplot as plt\n",
    "%matplotlib inline\n",
    "import time\n",
    "import matplotlib.pyplot as plt\n",
    "import scipy\n",
    "import numpy as np\n",
    "from PIL import Image\n",
    "from scipy import ndimage\n",
    "from keras.preprocessing.image import ImageDataGenerator, array_to_img, img_to_array, load_img\n",
    "import keras_metrics\n",
    "from keras import layers\n",
    "from keras import models\n",
    "from keras import optimizers\n",
    "from keras import models\n",
    "from keras import layers\n",
    "import keras_metrics\n",
    "from sklearn.model_selection import RandomizedSearchCV \n",
    "\n",
    "np.random.seed(123)"
   ]
  },
  {
   "cell_type": "code",
   "execution_count": 2,
   "metadata": {},
   "outputs": [],
   "source": [
    "test_folder = '../data/test'\n",
    "train_folder = '../data/train'\n",
    "val_folder = '../data/val'"
   ]
  },
  {
   "cell_type": "code",
   "execution_count": 3,
   "metadata": {},
   "outputs": [
    {
     "name": "stdout",
     "output_type": "stream",
     "text": [
      "Found 624 images belonging to 2 classes.\n",
      "Found 16 images belonging to 2 classes.\n",
      "Found 5216 images belonging to 2 classes.\n"
     ]
    }
   ],
   "source": [
    "test_generator = ImageDataGenerator(rescale=1./255).flow_from_directory(\n",
    "        test_folder, \n",
    "        target_size=(64,64), batch_size = 627) \n",
    "\n",
    "val_generator = ImageDataGenerator(rescale=1./255).flow_from_directory(\n",
    "        val_folder, \n",
    "        target_size=(64,64), batch_size = 19)\n",
    "\n",
    "train_generator = ImageDataGenerator(rescale=1./255).flow_from_directory(\n",
    "        train_folder, \n",
    "        target_size=(64,64), batch_size=5219)"
   ]
  },
  {
   "cell_type": "code",
   "execution_count": 4,
   "metadata": {},
   "outputs": [],
   "source": [
    "train_images, train_labels = next(train_generator)\n",
    "test_images, test_labels = next(test_generator)\n",
    "val_images, val_labels = next(val_generator)"
   ]
  },
  {
   "cell_type": "code",
   "execution_count": 5,
   "metadata": {},
   "outputs": [],
   "source": [
    "train_img = train_images.reshape(train_images.shape[0], -1)\n",
    "test_img = test_images.reshape(test_images.shape[0], -1)\n",
    "val_img = val_images.reshape(val_images.shape[0], -1)\n",
    "\n",
    "train_y = np.reshape(train_labels[:,0], (5216,1))\n",
    "test_y = np.reshape(test_labels[:,0], (624,1))\n",
    "val_y = np.reshape(val_labels[:,0], (16,1))"
   ]
  },
  {
   "cell_type": "code",
   "execution_count": 6,
   "metadata": {},
   "outputs": [
    {
     "data": {
      "text/plain": [
       "(5216, 12288)"
      ]
     },
     "execution_count": 6,
     "metadata": {},
     "output_type": "execute_result"
    }
   ],
   "source": [
    "train_img.shape"
   ]
  },
  {
   "cell_type": "markdown",
   "metadata": {},
   "source": [
    "# Modeling"
   ]
  },
  {
   "cell_type": "code",
   "execution_count": 7,
   "metadata": {},
   "outputs": [],
   "source": [
    "model = models.Sequential()\n",
    "\n",
    "model.add(layers.Conv2D(6, (3, 3), activation='relu',\n",
    "                        input_shape=(64 ,64,  3)))\n",
    "model.add(layers.MaxPooling2D((3, 3), strides=3))\n",
    "model.add(layers.Dropout(0.75))  \n",
    "\n",
    "model.add(layers.Conv2D(12, (3, 3), activation='relu'))\n",
    "model.add(layers.MaxPooling2D((3, 3), strides=3))\n",
    "model.add(layers.Dropout(0.05))  \n",
    "\n",
    "model.add(layers.Conv2D(18, (3, 3), activation='relu'))\n",
    "model.add(layers.MaxPooling2D((3, 3), strides=3))\n",
    "model.add(layers.Dropout(0.0025)) \n",
    "\n",
    "#model.add(layers.Conv2D(17,(3, 3),  activation='relu'))\n",
    "#model.add(layers.MaxPooling2D((3, 3), strides=3))\n",
    "#model.add(layers.Dropout(0.0125)) \n",
    "\n",
    "# model.add(layers.Dense(64, activation='relu'))\n",
    "# model.add(layers.MaxPooling2D((2, 2)))\n",
    "\n",
    "# model.add(layers.Conv2D(128, (3, 3), activation='relu'))\n",
    "# model.add(layers.MaxPooling2D((2, 2)))\n",
    "\n",
    "# model.add(layers.Conv2D(256, (3, 3), activation='relu'))\n",
    "# model.add(layers.MaxPooling2D((2, 2)))\n",
    "\n",
    "model.add(layers.Flatten())\n",
    "#model.add(layers.Dense(512, activation='relu'))\n",
    "model.add(layers.Dense(1, activation='sigmoid'))\n",
    "\n",
    "\n",
    "# confusion matrx"
   ]
  },
  {
   "cell_type": "code",
   "execution_count": 8,
   "metadata": {},
   "outputs": [
    {
     "name": "stdout",
     "output_type": "stream",
     "text": [
      "Train on 5216 samples, validate on 16 samples\n",
      "Epoch 1/17\n",
      "5216/5216 [==============================] - 5s 988us/step - loss: 0.5664 - acc: 0.7427 - recall: 0.0000e+00 - val_loss: 0.6912 - val_acc: 0.5625 - val_recall: 0.1250\n",
      "Epoch 2/17\n",
      "5216/5216 [==============================] - 4s 830us/step - loss: 0.5474 - acc: 0.7437 - recall: 0.0082 - val_loss: 0.6849 - val_acc: 0.5000 - val_recall: 1.0000\n",
      "Epoch 3/17\n",
      "5216/5216 [==============================] - 4s 830us/step - loss: 0.4645 - acc: 0.7801 - recall: 0.2446 - val_loss: 0.6751 - val_acc: 0.5000 - val_recall: 1.0000\n",
      "Epoch 4/17\n",
      "5216/5216 [==============================] - 4s 845us/step - loss: 0.3769 - acc: 0.8359 - recall: 0.5459 - val_loss: 0.6709 - val_acc: 0.5000 - val_recall: 1.0000\n",
      "Epoch 5/17\n",
      "5216/5216 [==============================] - 4s 854us/step - loss: 0.3378 - acc: 0.8472 - recall: 0.6227 - val_loss: 0.6340 - val_acc: 0.5000 - val_recall: 1.0000\n",
      "Epoch 6/17\n",
      "5216/5216 [==============================] - 4s 854us/step - loss: 0.3257 - acc: 0.8535 - recall: 0.6435 - val_loss: 0.6328 - val_acc: 0.5000 - val_recall: 1.0000\n",
      "Epoch 7/17\n",
      "5216/5216 [==============================] - 5s 863us/step - loss: 0.3025 - acc: 0.8635 - recall: 0.6913 - val_loss: 0.5974 - val_acc: 0.5625 - val_recall: 1.0000\n",
      "Epoch 8/17\n",
      "5216/5216 [==============================] - 5s 870us/step - loss: 0.2881 - acc: 0.8758 - recall: 0.7248 - val_loss: 0.6560 - val_acc: 0.5000 - val_recall: 1.0000\n",
      "Epoch 9/17\n",
      "5216/5216 [==============================] - 5s 865us/step - loss: 0.2836 - acc: 0.8735 - recall: 0.7159 - val_loss: 0.6053 - val_acc: 0.5625 - val_recall: 1.0000\n",
      "Epoch 10/17\n",
      "5216/5216 [==============================] - 5s 874us/step - loss: 0.2815 - acc: 0.8762 - recall: 0.7233 - val_loss: 0.5528 - val_acc: 0.8750 - val_recall: 1.0000\n",
      "Epoch 11/17\n",
      "5216/5216 [==============================] - 5s 871us/step - loss: 0.2608 - acc: 0.8850 - recall: 0.7539 - val_loss: 0.5706 - val_acc: 0.7500 - val_recall: 1.0000\n",
      "Epoch 12/17\n",
      "5216/5216 [==============================] - 5s 914us/step - loss: 0.2685 - acc: 0.8819 - recall: 0.7435 - val_loss: 0.5400 - val_acc: 0.8125 - val_recall: 0.8750\n",
      "Epoch 13/17\n",
      "5216/5216 [==============================] - 5s 910us/step - loss: 0.2635 - acc: 0.8827 - recall: 0.7539 - val_loss: 0.5343 - val_acc: 0.8125 - val_recall: 0.7500\n",
      "Epoch 14/17\n",
      "5216/5216 [==============================] - 5s 893us/step - loss: 0.2550 - acc: 0.8869 - recall: 0.7532 - val_loss: 0.5334 - val_acc: 0.7500 - val_recall: 0.8750\n",
      "Epoch 15/17\n",
      "5216/5216 [==============================] - 5s 892us/step - loss: 0.2455 - acc: 0.8970 - recall: 0.7942 - val_loss: 0.5497 - val_acc: 0.8125 - val_recall: 0.7500\n",
      "Epoch 16/17\n",
      "5216/5216 [==============================] - 5s 884us/step - loss: 0.2561 - acc: 0.8905 - recall: 0.7644 - val_loss: 0.5252 - val_acc: 0.8750 - val_recall: 0.7500\n",
      "Epoch 17/17\n",
      "5216/5216 [==============================] - 5s 890us/step - loss: 0.2398 - acc: 0.8997 - recall: 0.7957 - val_loss: 0.5194 - val_acc: 0.8750 - val_recall: 0.7500\n"
     ]
    }
   ],
   "source": [
    "model.compile(loss='binary_crossentropy',\n",
    "              optimizer='adam',\n",
    "              metrics=['acc',keras_metrics.recall()])\n",
    "\n",
    "history = model.fit(train_images,\n",
    "                    train_y,\n",
    "                    epochs=17,\n",
    "                    batch_size=32,\n",
    "                    validation_data=(val_images, val_y),\n",
    "                    verbose=1)"
   ]
  },
  {
   "cell_type": "code",
   "execution_count": 9,
   "metadata": {},
   "outputs": [
    {
     "name": "stdout",
     "output_type": "stream",
     "text": [
      "5216/5216 [==============================] - 2s 459us/step\n"
     ]
    }
   ],
   "source": [
    "results_train = model.evaluate(train_images, train_y)"
   ]
  },
  {
   "cell_type": "code",
   "execution_count": 10,
   "metadata": {},
   "outputs": [
    {
     "name": "stdout",
     "output_type": "stream",
     "text": [
      "624/624 [==============================] - 0s 484us/step\n"
     ]
    }
   ],
   "source": [
    "results_test = model.evaluate(test_images, test_y)"
   ]
  },
  {
   "cell_type": "code",
   "execution_count": 11,
   "metadata": {},
   "outputs": [
    {
     "data": {
      "text/plain": [
       "[0.4663927313740268, 0.8420245398773006, 0.9753914988086956]"
      ]
     },
     "execution_count": 11,
     "metadata": {},
     "output_type": "execute_result"
    }
   ],
   "source": [
    "results_train"
   ]
  },
  {
   "cell_type": "code",
   "execution_count": 12,
   "metadata": {},
   "outputs": [
    {
     "data": {
      "text/plain": [
       "[0.48579734105330247, 0.8413461538461539, 0.8846153842373439]"
      ]
     },
     "execution_count": 12,
     "metadata": {},
     "output_type": "execute_result"
    }
   ],
   "source": [
    "results_test"
   ]
  },
  {
   "cell_type": "code",
   "execution_count": 13,
   "metadata": {},
   "outputs": [
    {
     "data": {
      "text/plain": [
       "[0.0,\n",
       " 0.008202833705577716,\n",
       " 0.24459358685722646,\n",
       " 0.5458612974984444,\n",
       " 0.6226696494688538,\n",
       " 0.6435495898103244,\n",
       " 0.6912751677336856,\n",
       " 0.724832214711049,\n",
       " 0.7158836688504188,\n",
       " 0.723340790400944,\n",
       " 0.7539149887580973,\n",
       " 0.743475018587362,\n",
       " 0.7539149887580973,\n",
       " 0.7531692766030448,\n",
       " 0.7941834451309333,\n",
       " 0.7643549589288325,\n",
       " 0.7956748694410384]"
      ]
     },
     "execution_count": 13,
     "metadata": {},
     "output_type": "execute_result"
    }
   ],
   "source": [
    "history.history['recall']"
   ]
  },
  {
   "cell_type": "code",
   "execution_count": 14,
   "metadata": {},
   "outputs": [
    {
     "data": {
      "text/plain": [
       "array([[1],\n",
       "       [0],\n",
       "       [0],\n",
       "       [0],\n",
       "       [1],\n",
       "       [0],\n",
       "       [1],\n",
       "       [1],\n",
       "       [0],\n",
       "       [0],\n",
       "       [0],\n",
       "       [1],\n",
       "       [0],\n",
       "       [1],\n",
       "       [0],\n",
       "       [0]], dtype=int32)"
      ]
     },
     "execution_count": 14,
     "metadata": {},
     "output_type": "execute_result"
    }
   ],
   "source": [
    "model.predict_classes(val_images)"
   ]
  },
  {
   "cell_type": "code",
   "execution_count": 15,
   "metadata": {},
   "outputs": [
    {
     "data": {
      "text/plain": [
       "array([[1., 0.],\n",
       "       [1., 0.],\n",
       "       [0., 1.],\n",
       "       [0., 1.],\n",
       "       [1., 0.],\n",
       "       [0., 1.],\n",
       "       [1., 0.],\n",
       "       [1., 0.],\n",
       "       [0., 1.],\n",
       "       [0., 1.],\n",
       "       [0., 1.],\n",
       "       [1., 0.],\n",
       "       [0., 1.],\n",
       "       [1., 0.],\n",
       "       [1., 0.],\n",
       "       [0., 1.]], dtype=float32)"
      ]
     },
     "execution_count": 15,
     "metadata": {},
     "output_type": "execute_result"
    }
   ],
   "source": [
    "val_labels"
   ]
  },
  {
   "cell_type": "code",
   "execution_count": null,
   "metadata": {},
   "outputs": [],
   "source": []
  },
  {
   "cell_type": "code",
   "execution_count": 16,
   "metadata": {},
   "outputs": [
    {
     "data": {
      "image/png": "[encoded data removed]",
      "text/plain": [
       "<Figure size 432x288 with 1 Axes>"
      ]
     },
     "metadata": {
      "needs_background": "light"
     },
     "output_type": "display_data"
    },
    {
     "data": {
      "image/png": "[encoded data removed]",
      "text/plain": [
       "<Figure size 432x288 with 1 Axes>"
      ]
     },
     "metadata": {
      "needs_background": "light"
     },
     "output_type": "display_data"
    }
   ],
   "source": [
    "import matplotlib.pyplot as plt\n",
    "%matplotlib inline \n",
    "\n",
    "rec = history.history['recall']\n",
    "val_rec = history.history['val_recall']\n",
    "loss = history.history['loss']\n",
    "val_loss = history.history['val_loss']\n",
    "epochs = range(len(rec))\n",
    "plt.plot(epochs, rec, 'bo', label='Training acc')\n",
    "plt.plot(epochs, val_rec, 'r', label='Validation acc')\n",
    "plt.title('Training and validation Recall')\n",
    "plt.legend()\n",
    "plt.figure()\n",
    "plt.plot(epochs, loss, 'bo', label='Training loss')\n",
    "plt.plot(epochs, val_loss, 'r', label='Validation loss')\n",
    "plt.title('Training and validation loss')\n",
    "plt.legend()\n",
    "plt.show()"
   ]
  }
 ],
 "metadata": {
  "kernelspec": {
   "display_name": "Python [conda env:learn-env] *",
   "language": "python",
   "name": "conda-env-learn-env-py"
  },
  "language_info": {
   "codemirror_mode": {
    "name": "ipython",
    "version": 3
   },
   "file_extension": ".py",
   "mimetype": "text/x-python",
   "name": "python",
   "nbconvert_exporter": "python",
   "pygments_lexer": "ipython3",
   "version": "3.6.9"
  }
 },
 "nbformat": 4,
 "nbformat_minor": 4
}
